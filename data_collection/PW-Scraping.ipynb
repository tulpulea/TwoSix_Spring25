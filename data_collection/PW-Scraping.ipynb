{
 "cells": [
  {
   "cell_type": "code",
   "execution_count": null,
   "id": "f712c359-84d1-4f7d-8599-351f3d940978",
   "metadata": {},
   "outputs": [],
   "source": [
    "import requests\n",
    "from datetime import datetime\n",
    "import time\n",
    "from lxml import html\n",
    "from fake_useragent import UserAgent\n",
    "\n",
    "import pymongo\n",
    "client = pymongo.MongoClient()\n",
    "db = client.regulationsgov\n",
    "documents_collection = db.documents\n",
    "comments_collection = db.comments\n",
    "\n",
    "from RegAPI import Reg_API"
   ]
  },
  {
   "cell_type": "code",
   "execution_count": null,
   "id": "a77e35ac-3235-43e7-855d-bc98455edd7c",
   "metadata": {},
   "outputs": [],
   "source": [
    "page_size = 250\n",
    "api = Reg_API(page_size)"
   ]
  },
  {
   "cell_type": "code",
   "execution_count": null,
   "id": "ee4431cb-d790-467e-8809-9f49d892752a",
   "metadata": {},
   "outputs": [],
   "source": [
    "def scrapeAll(endpoint, collection):\n",
    "    pageNum = 1\n",
    "    while True: \n",
    "        documents = api.endpoint(endpoint).sort(\"lastModifiedDate\").page(pageNum).get()\n",
    "        for doc in documents[\"data\"]:\n",
    "            doc[\"_id\"] = doc[\"id\"]\n",
    "            doc[\"_inserted_time\"] = time.time()\n",
    "        \n",
    "        collection.insert_many(documents[\"data\"])\n",
    "        \n",
    "        if pageNum > 1: ### Comment out/delete to run for ALL pages\n",
    "            break       # - Currently stops after 2nd page\n",
    "        \n",
    "        if documents[\"meta\"][\"hasNextPage\"] == False:\n",
    "            date = documents[\"data\"][-1][\"attributes\"][\"lastModifiedDate\"]\n",
    "        else:\n",
    "            pageNum += 1\n",
    "\n",
    "scrapeAll(\"/comments\", comments_collection)"
   ]
  }
 ],
 "metadata": {
  "kernelspec": {
   "display_name": "CMSE495-TwoSix",
   "language": "python",
   "name": "cmse495-twosix"
  },
  "language_info": {
   "codemirror_mode": {
    "name": "ipython",
    "version": 3
   },
   "file_extension": ".py",
   "mimetype": "text/x-python",
   "name": "python",
   "nbconvert_exporter": "python",
   "pygments_lexer": "ipython3",
   "version": "3.13.1"
  }
 },
 "nbformat": 4,
 "nbformat_minor": 5
}
