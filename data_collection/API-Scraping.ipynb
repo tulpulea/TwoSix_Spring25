{
 "cells": [
  {
   "cell_type": "code",
   "execution_count": 3,
   "id": "f432a3c9-bf3b-45cf-807f-43e074bc0aaf",
   "metadata": {},
   "outputs": [],
   "source": [
    "from pymongo import MongoClient\n",
    "\n",
    "from RegAPI import Reg_API\n",
    "from APIScraper import CommentParser\n",
    "\n",
    "# Setup basic MongoDB collection\n",
    "client = MongoClient()\n",
    "db = client.regulationsgov\n",
    "comments_collection = db.comments"
   ]
  },
  {
   "cell_type": "code",
   "execution_count": 9,
   "id": "5633eee4-0797-4515-b25d-dfaa3c81363c",
   "metadata": {},
   "outputs": [],
   "source": [
    "api = Reg_API(20)\n",
    "comment_link = api.endpoint(\"/comments\").get()[\"data\"][0][\"links\"][\"self\"]\n",
    "comment_details = api.url(comment_link).get()"
   ]
  },
  {
   "cell_type": "code",
   "execution_count": 16,
   "id": "a15bab7b-6a3c-4424-8f6c-6ae766c22007",
   "metadata": {},
   "outputs": [
    {
     "data": {
      "text/plain": [
       "{'Date': 'Tue, 25 Feb 2025 01:31:55 GMT', 'Content-Type': 'application/vnd.api+json;charset=utf-8', 'Transfer-Encoding': 'chunked', 'Connection': 'keep-alive', 'Access-Control-Allow-Origin': '*', 'Age': '1', 'Strict-Transport-Security': 'max-age=31536000; preload', 'Via': 'https/1.1 api-umbrella (ApacheTrafficServer [cMsSf ])', 'X-Api-Umbrella-Request-Id': 'cl7atm8sstllsd820jog', 'X-Cache': 'MISS', 'X-Content-Type-Options': 'nosniff', 'X-Ratelimit-Limit': '1000', 'X-Ratelimit-Remaining': '999', 'X-Vcap-Request-Id': '6302fabb-7ef7-45f1-6572-7b78f6c1387b', 'X-Xss-Protection': '1; mode=block', 'X-Frame-Options': 'DENY'}"
      ]
     },
     "execution_count": 16,
     "metadata": {},
     "output_type": "execute_result"
    }
   ],
   "source": [
    "api.endpoint(\"/comments\").get(get_json=False).headers"
   ]
  },
  {
   "cell_type": "code",
   "execution_count": 15,
   "id": "f1ca2250-806e-4082-9e60-71a73c329110",
   "metadata": {},
   "outputs": [
    {
     "data": {
      "text/plain": [
       "{'commentOn': '090000648293ead2',\n",
       " 'commentOnDocumentId': 'EPA-R10-OW-2017-0369-0001',\n",
       " 'duplicateComments': 1,\n",
       " 'address1': None,\n",
       " 'address2': None,\n",
       " 'agencyId': 'EPA',\n",
       " 'city': None,\n",
       " 'category': None,\n",
       " 'comment': 'See attached',\n",
       " 'country': None,\n",
       " 'displayProperties': [{'name': 'pageCount',\n",
       "   'label': 'Page Count',\n",
       "   'tooltip': 'Number of pages In the content file'}],\n",
       " 'docAbstract': None,\n",
       " 'docketId': 'EPA-R10-OW-2017-0369',\n",
       " 'documentType': 'Public Submission',\n",
       " 'email': None,\n",
       " 'fax': None,\n",
       " 'field1': None,\n",
       " 'field2': None,\n",
       " 'fileFormats': None,\n",
       " 'firstName': None,\n",
       " 'govAgency': None,\n",
       " 'govAgencyType': None,\n",
       " 'objectId': '0900006482ba59a6',\n",
       " 'lastName': None,\n",
       " 'legacyId': None,\n",
       " 'modifyDate': '2017-10-12T01:52:49Z',\n",
       " 'organization': None,\n",
       " 'originalDocumentId': None,\n",
       " 'pageCount': 1,\n",
       " 'phone': None,\n",
       " 'postedDate': '2017-10-11T04:00:00Z',\n",
       " 'postmarkDate': '2017-06-11T04:00:00Z',\n",
       " 'reasonWithdrawn': None,\n",
       " 'receiveDate': '2017-06-11T04:00:00Z',\n",
       " 'restrictReason': None,\n",
       " 'restrictReasonType': None,\n",
       " 'stateProvinceRegion': None,\n",
       " 'submitterRep': None,\n",
       " 'submitterRepAddress': None,\n",
       " 'submitterRepCityState': None,\n",
       " 'subtype': 'Public Comment',\n",
       " 'title': 'Comment submitted by J. Grimble',\n",
       " 'trackingNbr': '1k1-8z2e-xyvn',\n",
       " 'withdrawn': False,\n",
       " 'zip': None,\n",
       " 'openForComment': False}"
      ]
     },
     "execution_count": 15,
     "metadata": {},
     "output_type": "execute_result"
    }
   ],
   "source": [
    "comment_details['data'][\"attributes\"]"
   ]
  },
  {
   "cell_type": "code",
   "execution_count": null,
   "id": "f3c26d8a-76e1-454c-9a14-feb11baa6542",
   "metadata": {},
   "outputs": [],
   "source": [
    "page_size = 20\n",
    "api = Reg_API(page_size)\n",
    "parser = CommentParser(api)\n",
    "\n",
    "pageNum = 1\n",
    "while True: \n",
    "    comments = api.endpoint(\"/comments\").search(\"climate\").page(pageNum).get()\n",
    "    \n",
    "    for i, comment in enumerate(comments[\"data\"]):\n",
    "        comment_data = parser.get_comment_data(comment)\n",
    "        print(f\"(pg {pageNum}) {i+1}/{page_size}: \", comment_data['_id'], end=\"\")\n",
    "        print(\" \"*50, end=\"\\r\") # Clear line\n",
    "\n",
    "        ## Uncomment to store in MongoDB\n",
    "        #comments_collection.insert_one(comment_data) \n",
    "\n",
    "    if pageNum > 1: ### Comment out/delete to run for ALL pages\n",
    "        break       # - Currently stops after 2nd page\n",
    "    \n",
    "    if comments[\"meta\"][\"hasNextPage\"] == False:\n",
    "        break\n",
    "    else:\n",
    "        pageNum += 1"
   ]
  },
  {
   "cell_type": "code",
   "execution_count": 4,
   "id": "d04a1b91-7c7a-4bf5-ba14-60f9d54c41aa",
   "metadata": {},
   "outputs": [
    {
     "data": {
      "text/plain": [
       "'/home/emmaf/School/Courses/CMSE-495/TwoSix_Spring25/data_collection/API'"
      ]
     },
     "execution_count": 4,
     "metadata": {},
     "output_type": "execute_result"
    }
   ],
   "source": [
    "import os\n",
    "os.getcwd()"
   ]
  }
 ],
 "metadata": {
  "kernelspec": {
   "display_name": "CMSE495-TwoSix",
   "language": "python",
   "name": "cmse495-twosix"
  },
  "language_info": {
   "codemirror_mode": {
    "name": "ipython",
    "version": 3
   },
   "file_extension": ".py",
   "mimetype": "text/x-python",
   "name": "python",
   "nbconvert_exporter": "python",
   "pygments_lexer": "ipython3",
   "version": "3.13.1"
  }
 },
 "nbformat": 4,
 "nbformat_minor": 5
}
