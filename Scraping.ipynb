{
 "cells": [
  {
   "cell_type": "code",
   "execution_count": 2,
   "id": "f432a3c9-bf3b-45cf-807f-43e074bc0aaf",
   "metadata": {},
   "outputs": [],
   "source": [
    "import requests"
   ]
  },
  {
   "cell_type": "code",
   "execution_count": 72,
   "id": "c9717f7d-1066-49b7-a299-b524bd9e5265",
   "metadata": {
    "jupyter": {
     "source_hidden": true
    }
   },
   "outputs": [],
   "source": [
    "class Reg_API:\n",
    "    def __init__(self, page_size=20):\n",
    "        self.apibase = \"https://api.regulations.gov/v4\"\n",
    "        self.apikey = \"e7LVpmbLfa0f0dDAx6TPzg86cG5TASGTafkxQHWg\"\n",
    "        self.page_size = page_size\n",
    "        self.reqstr = \"\"\n",
    "\n",
    "    def _add_apikey(self):\n",
    "        self.reqstr = self.reqstr + f\"?api_key={self.apikey}\"\n",
    "        return self\n",
    "\n",
    "    ### Main url constructors\n",
    "    def endpoint(self, endpoint):\n",
    "        self.reqstr = f\"{self.apibase}{endpoint}\"\n",
    "        self._add_apikey()\n",
    "        return self\n",
    "\n",
    "    def url(self, url):\n",
    "        self.reqstr = url\n",
    "        self._add_apikey()\n",
    "        return self\n",
    "\n",
    "    ### Search modifiers\n",
    "    def search(self, search_term):\n",
    "        self.reqstr = self.reqstr + f\"&filter[searchTerm]={search_term}\"\n",
    "        return self\n",
    "\n",
    "    def page(self, page):\n",
    "        self.reqstr = self.reqstr + f\"&page[size]={self.page_size}&page[number]={page}\"\n",
    "        return self\n",
    "\n",
    "    ### Get response(s)\n",
    "    def get(self, get_json=True):\n",
    "        response = requests.get(self.reqstr)\n",
    "        if get_json:\n",
    "            response = response.json()\n",
    "        self.reqstr = \"\"\n",
    "        return response\n",
    "\n",
    "    def get_all(self):\n",
    "        responses = []\n",
    "        page = 1\n",
    "        while True:\n",
    "            response = requests.get(self.page(page).reqstr).json()\n",
    "            responses.append(response)\n",
    "            if not response[\"meta\"][\"hasNextPage\"]:\n",
    "                break\n",
    "        self.reqstr = \"\"\n",
    "        return responses"
   ]
  },
  {
   "cell_type": "code",
   "execution_count": 73,
   "id": "dd5af11a-f352-4937-9afb-db9a40e348f9",
   "metadata": {},
   "outputs": [],
   "source": [
    "api = Reg_API()\n",
    "comment_data = api.endpoint(\"/comments\").search(\"climate\").get()\n",
    "comment_links = [ comment[\"links\"][\"self\"] for comment in comment_data[\"data\"]]\n",
    "sample_comment = api.url(comment_links[0]).get()"
   ]
  },
  {
   "cell_type": "code",
   "execution_count": 87,
   "id": "bbb0d8c9-c93e-4ae9-83a0-980c071786e0",
   "metadata": {},
   "outputs": [
    {
     "data": {
      "text/plain": [
       "{'id': 'PHMSA-2019-0100-2389',\n",
       " 'type': 'comments',\n",
       " 'attributes': {'documentType': 'Public Submission',\n",
       "  'lastModifiedDate': '2019-08-06T13:57:16Z',\n",
       "  'highlightedContent': 'Comment from <mark><em>Climate</em></mark> Writers',\n",
       "  'withdrawn': False,\n",
       "  'agencyId': 'PHMSA',\n",
       "  'title': 'Comment from Climate Writers',\n",
       "  'objectId': '0900006483dd9a06',\n",
       "  'postedDate': '2019-08-02T04:00:00Z'},\n",
       " 'links': {'self': 'https://api.regulations.gov/v4/comments/PHMSA-2019-0100-2389'}}"
      ]
     },
     "execution_count": 87,
     "metadata": {},
     "output_type": "execute_result"
    }
   ],
   "source": [
    "comment_data['data'][0]"
   ]
  },
  {
   "cell_type": "markdown",
   "id": "51416b56-0692-4ad2-aecd-c1d2b90cc206",
   "metadata": {},
   "source": [
    "Parse `[\"links\"][\"self\"]` to get to comment data"
   ]
  },
  {
   "cell_type": "code",
   "execution_count": 77,
   "id": "24a5d930-f53e-4657-9cf1-84c4402a8f18",
   "metadata": {},
   "outputs": [
    {
     "data": {
      "text/plain": [
       "{'data': {'id': 'PHMSA-2019-0100-2389',\n",
       "  'type': 'comments',\n",
       "  'links': {'self': 'https://api.regulations.gov/v4/comments/PHMSA-2019-0100-2389'},\n",
       "  'attributes': {'commentOn': '0900006483cf03d6',\n",
       "   'commentOnDocumentId': 'PHMSA-2019-0100-0002',\n",
       "   'duplicateComments': 0,\n",
       "   'address1': None,\n",
       "   'address2': None,\n",
       "   'agencyId': 'PHMSA',\n",
       "   'city': None,\n",
       "   'category': None,\n",
       "   'comment': 'attach',\n",
       "   'country': None,\n",
       "   'displayProperties': None,\n",
       "   'docAbstract': None,\n",
       "   'docketId': 'PHMSA-2019-0100',\n",
       "   'documentType': 'Public Submission',\n",
       "   'email': None,\n",
       "   'fax': None,\n",
       "   'field1': None,\n",
       "   'field2': None,\n",
       "   'fileFormats': None,\n",
       "   'firstName': 'Climate',\n",
       "   'govAgency': None,\n",
       "   'govAgencyType': None,\n",
       "   'objectId': '0900006483dd9a06',\n",
       "   'lastName': 'Writers',\n",
       "   'legacyId': None,\n",
       "   'modifyDate': '2019-08-06T13:57:16Z',\n",
       "   'organization': None,\n",
       "   'originalDocumentId': None,\n",
       "   'pageCount': 0,\n",
       "   'phone': None,\n",
       "   'postedDate': '2019-08-02T04:00:00Z',\n",
       "   'postmarkDate': None,\n",
       "   'reasonWithdrawn': None,\n",
       "   'receiveDate': '2019-07-31T04:00:00Z',\n",
       "   'restrictReason': None,\n",
       "   'restrictReasonType': None,\n",
       "   'stateProvinceRegion': None,\n",
       "   'submitterRep': None,\n",
       "   'submitterRepAddress': None,\n",
       "   'submitterRepCityState': None,\n",
       "   'subtype': 'Comment(s)',\n",
       "   'title': 'Comment from Climate Writers',\n",
       "   'trackingNbr': '1k3-9bcj-wytd',\n",
       "   'withdrawn': False,\n",
       "   'zip': None,\n",
       "   'openForComment': False},\n",
       "  'relationships': {'attachments': {'links': {'self': 'https://api.regulations.gov/v4/comments/PHMSA-2019-0100-2389/relationships/attachments',\n",
       "     'related': 'https://api.regulations.gov/v4/comments/PHMSA-2019-0100-2389/attachments'}}}}}"
      ]
     },
     "execution_count": 77,
     "metadata": {},
     "output_type": "execute_result"
    }
   ],
   "source": [
    "sample_comment"
   ]
  },
  {
   "cell_type": "markdown",
   "id": "acfeafd2-b12e-41da-9090-523f516d5b7f",
   "metadata": {},
   "source": [
    "### Main Data\n",
    "\n",
    "- comment: *comment text*\n",
    "\n",
    "### Fields to consider\n",
    "\n",
    "Categories\n",
    "\n",
    " - **address info**: address1, address2, city, stateProvinceRegion, country, zip\n",
    " - **date info**: modifyDate, postedDate, postmrkDate, receiveDate\n",
    " - **submitter info**: firstName, lastName, organization, govAgency, govAgencyType\n",
    "\n",
    "Other\n",
    "\n",
    "- title\n",
    "- commentOnDocumentId\n",
    "- duplicateComments\n",
    "- category, documentType, subtype: *agency specific*\n",
    "- docAbstract: *The detailed description of the document. This is an agency configurable field. An agency can configure this field to make it not publicly accessible*\n",
    "- docketId\n",
    "\n",
    "Parse `[\"relationships\"][\"attachments\"][\"links\"]['related']` to get to attachment data if needed"
   ]
  },
  {
   "cell_type": "code",
   "execution_count": 80,
   "id": "b412d12a-377f-40e3-b555-e321cf160d4b",
   "metadata": {},
   "outputs": [
    {
     "data": {
      "text/plain": [
       "{'data': [{'id': '0900006483dd9a07',\n",
       "   'type': 'attachments',\n",
       "   'links': {'self': 'https://api.regulations.gov/v4/attachments/0900006483dd9a07'},\n",
       "   'attributes': {'agencyNote': None,\n",
       "    'authors': None,\n",
       "    'docAbstract': None,\n",
       "    'docOrder': 1,\n",
       "    'fileFormats': [{'fileUrl': 'https://downloads.regulations.gov/PHMSA-2019-0100-2389/attachment_1.pdf',\n",
       "      'format': 'pdf',\n",
       "      'size': 446371}],\n",
       "    'modifyDate': '2019-07-31T15:55:21Z',\n",
       "    'publication': None,\n",
       "    'restrictReason': None,\n",
       "    'restrictReasonType': None,\n",
       "    'title': 'Comment from Climate Writers'}}]}"
      ]
     },
     "execution_count": 80,
     "metadata": {},
     "output_type": "execute_result"
    }
   ],
   "source": [
    "sample_attachment = api.url(sample_comment[\"data\"][\"relationships\"][\"attachments\"][\"links\"]['related']).get()\n",
    "sample_attachment"
   ]
  },
  {
   "cell_type": "markdown",
   "id": "081f55d1-8e9c-4249-82ff-c288b748cad2",
   "metadata": {},
   "source": [
    "Download and parse `[\"fileFormats\"][n][\"fileUrl\"]`\n",
    "- Can include hand-written notes/pdfs.\n",
    "- OCR tools like `pytesseract`?\n",
    "\n",
    "### Fields to consider\n",
    "\n",
    "Most fields here are duplicates of the parent \"comment\" data\n",
    "\n",
    "- agencyNote\n"
   ]
  },
  {
   "cell_type": "code",
   "execution_count": 85,
   "id": "da915517-91d3-4e06-bdaa-a651ebd92851",
   "metadata": {},
   "outputs": [],
   "source": [
    "sample_attachment_file = api.url(sample_attachment['data'][0]['attributes'][\"fileFormats\"][0][\"fileUrl\"]).get(get_json=False)\n",
    "with open(\"test.pdf\", \"wb\") as f:\n",
    "    f.write(sample_attachment_file.content)"
   ]
  }
 ],
 "metadata": {
  "kernelspec": {
   "display_name": "CMSE495-TwoSix",
   "language": "python",
   "name": "cmse495-twosix"
  },
  "language_info": {
   "codemirror_mode": {
    "name": "ipython",
    "version": 3
   },
   "file_extension": ".py",
   "mimetype": "text/x-python",
   "name": "python",
   "nbconvert_exporter": "python",
   "pygments_lexer": "ipython3",
   "version": "3.13.1"
  }
 },
 "nbformat": 4,
 "nbformat_minor": 5
}
