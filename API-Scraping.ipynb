{
 "cells": [
  {
   "cell_type": "code",
   "execution_count": null,
   "id": "f432a3c9-bf3b-45cf-807f-43e074bc0aaf",
   "metadata": {},
   "outputs": [],
   "source": [
    "from pymongo import MongoClient\n",
    "\n",
    "from data_collection.RegAPI import Reg_API\n",
    "from APIScraper import CommentParser\n",
    "\n",
    "# Setup basic MongoDB collection\n",
    "client = MongoClient()\n",
    "db = client.regulationsgov\n",
    "comments_collection = db.comments"
   ]
  },
  {
   "cell_type": "code",
   "execution_count": null,
   "id": "f3c26d8a-76e1-454c-9a14-feb11baa6542",
   "metadata": {},
   "outputs": [],
   "source": [
    "page_size = 20\n",
    "api = Reg_API(page_size)\n",
    "parser = CommentParser(api)\n",
    "\n",
    "pageNum = 1\n",
    "while True: \n",
    "    comments = api.endpoint(\"/comments\").search(\"climate\").page(pageNum).get()\n",
    "    \n",
    "    for i, comment in enumerate(comments[\"data\"]):\n",
    "        comment_data = parser.get_comment_data(comment)\n",
    "        print(f\"(pg {pageNum}) {i+1}/{page_size}: \", comment_data['_id'], end=\"\")\n",
    "        print(\" \"*50, end=\"\\r\") # Clear line\n",
    "\n",
    "        ## Uncomment to store in MongoDB\n",
    "        #comments_collection.insert_one(comment_data) \n",
    "\n",
    "    if pageNum > 1: ### Comment out/delete to run for ALL pages\n",
    "        break       # - Currently stops after 2nd page\n",
    "    \n",
    "    if comments[\"meta\"][\"hasNextPage\"] == False:\n",
    "        break\n",
    "    else:\n",
    "        pageNum += 1"
   ]
  },
  {
   "cell_type": "code",
   "execution_count": null,
   "id": "d04a1b91-7c7a-4bf5-ba14-60f9d54c41aa",
   "metadata": {},
   "outputs": [],
   "source": []
  }
 ],
 "metadata": {
  "kernelspec": {
   "display_name": "CMSE495-TwoSix",
   "language": "python",
   "name": "cmse495-twosix"
  },
  "language_info": {
   "codemirror_mode": {
    "name": "ipython",
    "version": 3
   },
   "file_extension": ".py",
   "mimetype": "text/x-python",
   "name": "python",
   "nbconvert_exporter": "python",
   "pygments_lexer": "ipython3",
   "version": "3.13.1"
  }
 },
 "nbformat": 4,
 "nbformat_minor": 5
}
